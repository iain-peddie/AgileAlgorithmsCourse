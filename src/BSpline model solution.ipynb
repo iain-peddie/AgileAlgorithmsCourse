{
 "metadata": {
  "name": "",
  "signature": "sha256:679ed47931b594a1117977e066a4550d9f235da1d5fa42d59b052440b587ff9c"
 },
 "nbformat": 3,
 "nbformat_minor": 0,
 "worksheets": [
  {
   "cells": [
    {
     "cell_type": "code",
     "collapsed": false,
     "input": [
      "import sys\n",
      "sys.path.append('.')\n",
      "import CourseExamples\n",
      "import SplineAlgorithms\n",
      "import numpy as np\n",
      "from matplotlib.pyplot import *\n",
      "# set reloading so that when NacaCurves module changes under development\n",
      "# changes are automatically noticed. (Why can't this be the default?)\n",
      "%load_ext autoreload\n",
      "%autoreload 2\n",
      "%matplotlib inline"
     ],
     "language": "python",
     "metadata": {},
     "outputs": [
      {
       "output_type": "stream",
       "stream": "stdout",
       "text": [
        "The autoreload extension is already loaded. To reload it, use:\n",
        "  %reload_ext autoreload\n"
       ]
      }
     ],
     "prompt_number": 23
    },
    {
     "cell_type": "code",
     "collapsed": false,
     "input": [
      "knotVector = np.hstack([np.zeros(3), np.linspace(0, 1, 10), np.ones(3)])\n",
      "order = 3\n",
      "data = CourseExamples.generateExampleData(1)\n",
      "dataPoints = data['anticlockwise']\n",
      "\n",
      "# TODO : chord length and x = (u-1/2)^2\n",
      "\n",
      "def naiveParameterise(dataPoints):\n",
      "    return np.linspace(0, 1, dataPoints.shape[0])\n",
      "\n",
      "def chordLengthParameterise(dataPoints):\n",
      "    unscaled = [0];    \n",
      "    for i in range(1,dataPoints.shape[0]):\n",
      "        chord = np.linalg.norm(dataPoints[i-1,:] - dataPoints[i])\n",
      "        unscaled.append(unscaled[-1] + chord)\n",
      "    \n",
      "    scaled = unscaled/unscaled[-1]\n",
      "    return np.array(scaled)\n",
      "    \n",
      "     \n",
      "    \n",
      "    \n",
      "\n",
      "parameterise = naiveParameterise\n",
      "parameterise = chordLengthParameterise"
     ],
     "language": "python",
     "metadata": {},
     "outputs": [],
     "prompt_number": 91
    },
    {
     "cell_type": "code",
     "collapsed": false,
     "input": [
      "params = parameterise(dataPoints)\n",
      "basisFuncs = SplineAlgorithms.splineBasisFunctions(params, order+1, knotVector)\n",
      "fitData = np.linalg.lstsq(basisFuncs, dataPoints)\n",
      "\n",
      "\n",
      "controlPoints = fitData[0]\n",
      "\n",
      "predPoints = np.dot(basisFuncs, controlPoints)"
     ],
     "language": "python",
     "metadata": {},
     "outputs": [],
     "prompt_number": 92
    },
    {
     "cell_type": "code",
     "collapsed": false,
     "input": [
      "plot(controlPoints[:, 0], controlPoints[:, 1], 's')\n",
      "plot(dataPoints[:, 0], dataPoints[:, 1])\n",
      "plot(predPoints[:, 0], predPoints[:, 1])"
     ],
     "language": "python",
     "metadata": {},
     "outputs": [
      {
       "metadata": {},
       "output_type": "pyout",
       "prompt_number": 94,
       "text": [
        "[<matplotlib.lines.Line2D at 0x7f999e9134a8>]"
       ]
      },
      {
       "metadata": {},
       "output_type": "display_data",
       "png": "[encoded data removed]",
       "text": [
        "<matplotlib.figure.Figure at 0x7f999e9af160>"
       ]
      }
     ],
     "prompt_number": 94
    },
    {
     "cell_type": "code",
     "collapsed": false,
     "input": [],
     "language": "python",
     "metadata": {},
     "outputs": []
    }
   ],
   "metadata": {}
  }
 ]
}