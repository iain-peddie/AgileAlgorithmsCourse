{
 "metadata": {
  "name": "",
  "signature": "sha256:a36d29022e737a189fc0953b0ed39bd19795edda2cf3983c621b8fbfdbe1edb2"
 },
 "nbformat": 3,
 "nbformat_minor": 0,
 "worksheets": [
  {
   "cells": [
    {
     "cell_type": "code",
     "collapsed": false,
     "input": [
      "import sys\n",
      "sys.path.append('.')\n",
      "import CourseExamples\n",
      "import SplineAlgorithms\n",
      "import numpy as np\n",
      "from matplotlib.pyplot import *\n",
      "# set reloading so that when NacaCurves module changes under development\n",
      "# changes are automatically noticed. (Why can't this be the default?)\n",
      "%load_ext autoreload\n",
      "%autoreload 2\n",
      "%matplotlib inline"
     ],
     "language": "python",
     "metadata": {},
     "outputs": [],
     "prompt_number": 1
    },
    {
     "cell_type": "code",
     "collapsed": false,
     "input": [
      "data = CourseExamples.generateExampleData(3)\n",
      "upperPoints = data['upper']\n",
      "lowerPoints = data['lower']"
     ],
     "language": "python",
     "metadata": {},
     "outputs": [],
     "prompt_number": 2
    },
    {
     "cell_type": "code",
     "collapsed": false,
     "input": [
      "def buildCstBasisFunctions(x, order):\n",
      "    # spline order is polynomial order + 1\n",
      "    zBasis = x.reshape([len(x), 1])    \n",
      "    shapeFunctions = SplineAlgorithms.bernsteinFunctions(x, order+1)\n",
      "    \n",
      "    classFunctions = (x)**0.5 * (1-x)**1    \n",
      "    classFunctions = np.transpose(np.tile(classFunctions, [shapeFunctions.shape[1], 1]))\n",
      "    \n",
      "    return  shapeFunctions * classFunctions\n"
     ],
     "language": "python",
     "metadata": {},
     "outputs": [],
     "prompt_number": 3
    },
    {
     "cell_type": "code",
     "collapsed": false,
     "input": [
      "def fitCstSurface(data, order):\n",
      "    \n",
      "    x = data[:, 0]\n",
      "    basis = buildCstBasisFunctions(x, order)\n",
      "    \n",
      "    fitData = np.linalg.lstsq(basis, data[:, 1])\n",
      "    \n",
      "    return createCstCurve(fitData[0], order)\n",
      "\n",
      "def createCstCurve(coeffs, order):\n",
      "    return {'coeffs': coeffs, \n",
      "            'order': order}\n",
      "\n"
     ],
     "language": "python",
     "metadata": {},
     "outputs": [],
     "prompt_number": 4
    },
    {
     "cell_type": "code",
     "collapsed": false,
     "input": [
      "upperCst = fitCstSurface(upperPoints, 3)\n",
      "lowerCst = fitCstSurface(lowerPoints, 3)"
     ],
     "language": "python",
     "metadata": {},
     "outputs": [],
     "prompt_number": 5
    },
    {
     "cell_type": "code",
     "collapsed": false,
     "input": [
      "def evaluateCstCurve(cstCurve, x):\n",
      "    basisFunctions = buildCstBasisFunctions(x, cstCurve['order'])\n",
      "    weightedBasisFunctions = 0 *basisFunctions\n",
      "    \n",
      "    coeffs = cstCurve['coeffs']\n",
      "    \n",
      "    \n",
      "    for iCoeff in range(0,len(coeffs)):\n",
      "        weightedBasisFunctions[:, iCoeff] = coeffs[iCoeff] * basisFunctions[:, iCoeff]\n",
      "        \n",
      "    predY = np.transpose(np.sum(weightedBasisFunctions, 1))\n",
      "    return np.transpose(np.vstack([x, predY]))\n",
      "    \n",
      "    "
     ],
     "language": "python",
     "metadata": {},
     "outputs": [],
     "prompt_number": 6
    },
    {
     "cell_type": "code",
     "collapsed": false,
     "input": [
      "xPred = np.linspace(0,1,101)\n",
      "predUpper = evaluateCstCurve(upperCst, xPred)\n",
      "predLower = evaluateCstCurve(lowerCst, xPred)"
     ],
     "language": "python",
     "metadata": {},
     "outputs": [],
     "prompt_number": 7
    },
    {
     "cell_type": "code",
     "collapsed": false,
     "input": [
      "def plotSnapshot(dataPoints, predPoints):    \n",
      "    plot(dataPoints[:, 0], dataPoints[:, 1], 'g-')\n",
      "    plot(predPoints[:, 0], predPoints[:, 1], 'r-')   "
     ],
     "language": "python",
     "metadata": {},
     "outputs": [],
     "prompt_number": 8
    },
    {
     "cell_type": "code",
     "collapsed": false,
     "input": [
      "plotSnapshot(upperPoints, predUpper)\n",
      "plotSnapshot(lowerPoints, predLower)"
     ],
     "language": "python",
     "metadata": {},
     "outputs": [
      {
       "metadata": {},
       "output_type": "display_data",
       "png": "[encoded data removed]",
       "text": [
        "<matplotlib.figure.Figure at 0x7f18b5510cc0>"
       ]
      }
     ],
     "prompt_number": 9
    },
    {
     "cell_type": "code",
     "collapsed": false,
     "input": [
      "def findFirstFitBeneathTolerance(data, fitTolerance):\n",
      "    cstCurve = None\n",
      "    oldMetric = float('inf')\n",
      "    for order in range(1, 20):\n",
      "        print('trying fit at ', order)\n",
      "        cstCurve = fitCstSurface(data, order)\n",
      "        residuals = calculateFitResiduals(data, cstCurve)\n",
      "        metric = sum(residuals[:, 1])/residuals.shape[0]\n",
      "        if metric <= fitTolerance:       \n",
      "            print('fit found at {}'.format(order))\n",
      "            break\n",
      "            \n",
      "        print('metric is ', metric)\n",
      "        if oldMetric < metric:\n",
      "            print('fit diverging at {}'.format(order))\n",
      "            cstCurve = fitCstSurface(data,order-1)\n",
      "            break\n",
      "            \n",
      "        oldMetric = metric\n",
      "        \n",
      "    return cstCurve\n",
      "\n",
      "def calculateFitResiduals(actuals, cstCurve):\n",
      "    x = actuals[:, 0]\n",
      "    actualZ = actuals[:, 1]\n",
      "    pred = evaluateCstCurve(cstCurve, x)\n",
      "    predZ = pred[:, 1]\n",
      "    return np.transpose(np.vstack([x, abs(actualZ - predZ)]))"
     ],
     "language": "python",
     "metadata": {},
     "outputs": [],
     "prompt_number": 14
    },
    {
     "cell_type": "code",
     "collapsed": false,
     "input": [
      "target = 4e-4\n",
      "upperFit = findFirstFitBeneathTolerance(upperPoints, target)\n",
      "lowerFit = findFirstFitBeneathTolerance(lowerPoints, target)"
     ],
     "language": "python",
     "metadata": {},
     "outputs": [
      {
       "output_type": "stream",
       "stream": "stdout",
       "text": [
        "trying fit at  1\n",
        "metric is  0.00222940140179\n",
        "trying fit at  2\n",
        "metric is  0.00221279366562\n",
        "trying fit at  3\n",
        "metric is  0.00202727139215\n",
        "trying fit at  4\n",
        "metric is  0.00195850002045\n",
        "trying fit at  5\n",
        "metric is  0.0019768417275\n",
        "fit diverging at 5\n",
        "trying fit at  1\n",
        "metric is  0.00232024537798\n",
        "trying fit at  2\n",
        "metric is  0.000576744337021\n",
        "trying fit at  3\n",
        "metric is "
       ]
      },
      {
       "output_type": "stream",
       "stream": "stdout",
       "text": [
        " 0.000602875694125\n",
        "fit diverging at 3\n"
       ]
      }
     ],
     "prompt_number": 15
    },
    {
     "cell_type": "code",
     "collapsed": false,
     "input": [
      "def plotResiduals(actuals, cstCurve, target):\n",
      "    residuals = calculateFitResiduals(actuals, cstCurve)\n",
      "    targetData = target * np.ones(actuals.shape[0])\n",
      "    plot(residuals[:, 0], residuals[:, 1])\n",
      "    \n",
      "    plot(residuals[:, 0], targetData)"
     ],
     "language": "python",
     "metadata": {},
     "outputs": [],
     "prompt_number": 12
    },
    {
     "cell_type": "code",
     "collapsed": false,
     "input": [
      "plotResiduals(upperPoints, upperFit, target)\n",
      "plotResiduals(lowerPoints, lowerFit, target)"
     ],
     "language": "python",
     "metadata": {},
     "outputs": [
      {
       "metadata": {},
       "output_type": "display_data",
       "png": "[encoded data removed]",
       "text": [
        "<matplotlib.figure.Figure at 0x7f18b5487748>"
       ]
      }
     ],
     "prompt_number": 13
    },
    {
     "cell_type": "code",
     "collapsed": false,
     "input": [],
     "language": "python",
     "metadata": {},
     "outputs": [],
     "prompt_number": 13
    },
    {
     "cell_type": "code",
     "collapsed": false,
     "input": [],
     "language": "python",
     "metadata": {},
     "outputs": [],
     "prompt_number": 13
    }
   ],
   "metadata": {}
  }
 ]
}