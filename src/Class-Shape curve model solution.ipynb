{
 "metadata": {
  "name": "",
  "signature": "sha256:874e43131ecd90141ee894d02cd8c74bdb658bc47e7eb999b97a43abf2e34deb"
 },
 "nbformat": 3,
 "nbformat_minor": 0,
 "worksheets": [
  {
   "cells": [
    {
     "cell_type": "code",
     "collapsed": false,
     "input": [
      "import sys\n",
      "sys.path.append('.')\n",
      "import CourseExamples\n",
      "import SplineAlgorithms\n",
      "import numpy as np\n",
      "from matplotlib.pyplot import *\n",
      "# set reloading so that when NacaCurves module changes under development\n",
      "# changes are automatically noticed. (Why can't this be the default?)\n",
      "%load_ext autoreload\n",
      "%autoreload 2\n",
      "%matplotlib inline"
     ],
     "language": "python",
     "metadata": {},
     "outputs": [],
     "prompt_number": 1
    },
    {
     "cell_type": "code",
     "collapsed": false,
     "input": [
      "data = CourseExamples.generateExampleData(3)\n",
      "upperPoints = data['upper']\n",
      "lowerPoints = data['lower']"
     ],
     "language": "python",
     "metadata": {},
     "outputs": [],
     "prompt_number": 2
    },
    {
     "cell_type": "code",
     "collapsed": false,
     "input": [
      "def buildCstBasisFunctions(x, order):\n",
      "    \"\"\"Build the CST basis functions, sampled at x values for a given polynomial order.\n",
      "    \n",
      "    Inputs\n",
      "    ------\n",
      "    x : A 1d array of x values to evaluate the basis functions at\n",
      "    order : A polynomial order. Eg. 1 for 'linear' CST and 3 for 'cubic'.\n",
      "    \n",
      "    Returns\n",
      "    -------\n",
      "    A nx * (order+2) array of basis function values. Each row is the y values of each basis function\n",
      "    for the given x input.\"\"\"\n",
      "    \n",
      "    # spline order is polynomial order + 1\n",
      "    zBasis = x.reshape([len(x), 1])    \n",
      "    shapeFunctions = SplineAlgorithms.bernsteinFunctions(x, order+1)\n",
      "    \n",
      "    classFunctions = (x)**0.5 * (1-x)**1    \n",
      "    classFunctions = np.transpose(np.tile(classFunctions, [shapeFunctions.shape[1], 1]))\n",
      "    \n",
      "    return  shapeFunctions * classFunctions\n"
     ],
     "language": "python",
     "metadata": {},
     "outputs": [],
     "prompt_number": 3
    },
    {
     "cell_type": "code",
     "collapsed": false,
     "input": [
      "def fitCstSurface(data, order):\n",
      "    \"\"\"Given an array of xy points, fit a CST curve to that data.\n",
      "    \n",
      "    Inputs\n",
      "    ------\n",
      "    data : n*2 array of double, representing the curve to be fitted.\n",
      "    order : The polynomial order of the curve to be fitted to the data.\n",
      "    \n",
      "    Returns\n",
      "    -------\n",
      "    a map containing the best coefficients for each CST basis function, and the order.\"\"\"\n",
      "    \n",
      "    x = data[:, 0]\n",
      "    basis = buildCstBasisFunctions(x, order)\n",
      "    \n",
      "    fitData = np.linalg.lstsq(basis, data[:, 1])\n",
      "    \n",
      "    return createCstCurve(fitData[0], order)\n",
      "\n",
      "def createCstCurve(coeffs, order):\n",
      "    \"\"\"Builds a map representing the CST curve.\n",
      "    \n",
      "    Inputs\n",
      "    ------\n",
      "    coeffs: An array of the coefficients of each basis fucntion.\n",
      "    order: The polynomial order of the curve.\n",
      "    \n",
      "    Returns\n",
      "    -------\n",
      "    a map containing the best coefficients for each CST basis function, and the order.\"\"\"\n",
      "    \n",
      "    return {'coeffs': coeffs, \n",
      "            'order': order}\n",
      "\n"
     ],
     "language": "python",
     "metadata": {},
     "outputs": [],
     "prompt_number": 4
    },
    {
     "cell_type": "code",
     "collapsed": false,
     "input": [
      "upperCst = fitCstSurface(upperPoints, 3)\n",
      "lowerCst = fitCstSurface(lowerPoints, 3)"
     ],
     "language": "python",
     "metadata": {},
     "outputs": [],
     "prompt_number": 5
    },
    {
     "cell_type": "code",
     "collapsed": false,
     "input": [
      "def evaluateCstCurve(cstCurve, x):\n",
      "    \"\"\"Given a CST curve representation, evaluate the curve values\n",
      "    at the given x coordinates.\n",
      "    \n",
      "    Inputs\n",
      "    ------\n",
      "    cstCurve : A CST curve representation as returned by createCstCurve\n",
      "    x : An array of x values to evaulate the curve at\n",
      "    \n",
      "    Returns\n",
      "    -------\n",
      "    A n * 2 array of x and y values of the curve.\n",
      "    \"\"\"\n",
      "    basisFunctions = buildCstBasisFunctions(x, cstCurve['order'])\n",
      "    weightedBasisFunctions = 0 *basisFunctions\n",
      "    \n",
      "    coeffs = cstCurve['coeffs']\n",
      "    \n",
      "    \n",
      "    for iCoeff in range(0,len(coeffs)):\n",
      "        weightedBasisFunctions[:, iCoeff] = coeffs[iCoeff] * basisFunctions[:, iCoeff]\n",
      "        \n",
      "    predY = np.transpose(np.sum(weightedBasisFunctions, 1))\n",
      "    return np.transpose(np.vstack([x, predY]))\n",
      "    \n",
      "    "
     ],
     "language": "python",
     "metadata": {},
     "outputs": [],
     "prompt_number": 6
    },
    {
     "cell_type": "code",
     "collapsed": false,
     "input": [
      "xPred = np.linspace(0,1,101)\n",
      "predUpper = evaluateCstCurve(upperCst, xPred)\n",
      "predLower = evaluateCstCurve(lowerCst, xPred)"
     ],
     "language": "python",
     "metadata": {},
     "outputs": [],
     "prompt_number": 7
    },
    {
     "cell_type": "code",
     "collapsed": false,
     "input": [
      "def plotSnapshot(dataPoints, predPoints):    \n",
      "    \"\"\"\"Plots the data points and the predicuted points on top of each other.\"\"\"\n",
      "    plot(dataPoints[:, 0], dataPoints[:, 1], 'g-')\n",
      "    plot(predPoints[:, 0], predPoints[:, 1], 'r-')   "
     ],
     "language": "python",
     "metadata": {},
     "outputs": [],
     "prompt_number": 8
    },
    {
     "cell_type": "code",
     "collapsed": false,
     "input": [
      "plotSnapshot(upperPoints, predUpper)\n",
      "plotSnapshot(lowerPoints, predLower)"
     ],
     "language": "python",
     "metadata": {},
     "outputs": [
      {
       "metadata": {},
       "output_type": "display_data",
       "png": "[encoded data removed]",
       "text": [
        "<matplotlib.figure.Figure at 0x7f3b2938d240>"
       ]
      }
     ],
     "prompt_number": 9
    },
    {
     "cell_type": "code",
     "collapsed": false,
     "input": [
      "def findFirstFitBeneathTolerance(data, fitTolerance, firstOrder = 1):\n",
      "    \"\"\"Tries to find the first fit beneath a given tolerance.\n",
      "    If the residuals start going up, it returns the last fit before\n",
      "    the fits start to diverge.\n",
      "    \n",
      "    Inputs\n",
      "    ------\n",
      "    data : The data to be fitted. N * 2 array.\n",
      "    fitTolerance : The tolerance to be fitted. A double.\n",
      "    \n",
      "    Returns\n",
      "    -------\n",
      "    A CST curve.\"\"\"\n",
      "    \n",
      "    \n",
      "    cstCurve = None\n",
      "    oldMetric = float('inf')\n",
      "    for order in range(firstOrder, firstOrder+20):\n",
      "        print('trying fit at ', order)\n",
      "        cstCurve = fitCstSurface(data, order)\n",
      "        residuals = calculateFitResiduals(data, cstCurve)\n",
      "        metric = sum(residuals[:, 1])/residuals.shape[0]\n",
      "        if metric <= fitTolerance:       \n",
      "            print('fit found at {}'.format(order))\n",
      "            break\n",
      "            \n",
      "        print('metric is ', metric)\n",
      "        if oldMetric < metric:\n",
      "            print('fit diverging at {}'.format(order))\n",
      "            cstCurve = fitCstSurface(data,order-1)\n",
      "            break\n",
      "            \n",
      "        oldMetric = metric\n",
      "        \n",
      "    return cstCurve\n",
      "\n",
      "def calculateFitResiduals(actuals, cstCurve):\n",
      "    \"\"\"Calculates the residuals from the given curve.\n",
      "    \n",
      "    Inputs\n",
      "    ------\n",
      "    actuals : The actual data points.\n",
      "    cstCurve : The CST curve.\n",
      "    \"\"\"\n",
      "    \n",
      "    x = actuals[:, 0]\n",
      "    actualZ = actuals[:, 1]\n",
      "    pred = evaluateCstCurve(cstCurve, x)\n",
      "    predZ = pred[:, 1]\n",
      "    return np.transpose(np.vstack([x, abs(actualZ - predZ)]))"
     ],
     "language": "python",
     "metadata": {},
     "outputs": [],
     "prompt_number": 10
    },
    {
     "cell_type": "code",
     "collapsed": false,
     "input": [
      "target = 4e-4\n",
      "upperFit = findFirstFitBeneathTolerance(upperPoints, target, firstOrder = 15)\n",
      "lowerFit = findFirstFitBeneathTolerance(lowerPoints, target, firstOrder = 15)"
     ],
     "language": "python",
     "metadata": {},
     "outputs": [
      {
       "output_type": "stream",
       "stream": "stdout",
       "text": [
        "trying fit at  15\n",
        "metric is "
       ]
      },
      {
       "output_type": "stream",
       "stream": "stdout",
       "text": [
        " 0.00202979380259\n",
        "trying fit at  16\n",
        "metric is "
       ]
      },
      {
       "output_type": "stream",
       "stream": "stdout",
       "text": [
        " 0.00203034239061\n",
        "fit diverging at 16\n",
        "trying fit at  15\n",
        "fit found at 15"
       ]
      },
      {
       "output_type": "stream",
       "stream": "stdout",
       "text": [
        "\n"
       ]
      }
     ],
     "prompt_number": 30
    },
    {
     "cell_type": "code",
     "collapsed": false,
     "input": [
      "def plotResiduals(actuals, cstCurve, target):\n",
      "    \"\"\"Caluclates and plots residuals from a CST fit.\n",
      "    \n",
      "    Given a set of data points, a CST curve and a target, caluclates and plots\n",
      "    the residuals. Also plots the residual target for context.\n",
      "    \n",
      "    Inputs\n",
      "    ------\n",
      "    actuals : N*2 data, the data being fitted\n",
      "    cstCurve:  The CST curve fitted to the data\n",
      "    target : The target residual. \"\"\"\n",
      "    \n",
      "    residuals = calculateFitResiduals(actuals, cstCurve)\n",
      "    targetData = target * np.ones(actuals.shape[0])\n",
      "    plot(residuals[:, 0], residuals[:, 1])\n",
      "    \n",
      "    plot(residuals[:, 0], targetData)"
     ],
     "language": "python",
     "metadata": {},
     "outputs": [],
     "prompt_number": 12
    },
    {
     "cell_type": "code",
     "collapsed": false,
     "input": [
      "plotResiduals(upperPoints, upperFit, target)\n",
      "plotResiduals(lowerPoints, lowerFit, target)"
     ],
     "language": "python",
     "metadata": {},
     "outputs": [
      {
       "metadata": {},
       "output_type": "display_data",
       "png": "[encoded data removed]",
       "text": [
        "<matplotlib.figure.Figure at 0x7f3b293239e8>"
       ]
      }
     ],
     "prompt_number": 13
    },
    {
     "cell_type": "code",
     "collapsed": false,
     "input": [
      "modifiedCst = upperFit\n",
      "modifiedCst['coeffs'][-3] -= 0.5\n",
      "modifiedCst['coeffs'][-5] -= 0.5\n",
      "modifiedCst['coeffs'][-4] += 1.5\n",
      "modifiedUpperPoints = evaluateCstCurve(modifiedCst, xPred)\n",
      "modifiedLowerPoints = lowerPoints"
     ],
     "language": "python",
     "metadata": {},
     "outputs": [],
     "prompt_number": 31
    },
    {
     "cell_type": "code",
     "collapsed": false,
     "input": [
      "plotSnapshot(upperPoints, modifiedUpperPoints)\n",
      "plotSnapshot(lowerPoints, modifiedLowerPoints)"
     ],
     "language": "python",
     "metadata": {},
     "outputs": [
      {
       "output_type": "stream",
       "stream": "stdout",
       "text": [
        "{'coeffs': array([   0.26736761,    0.90380826,   -2.53348841,   10.52725645,\n",
        "        -26.01075284,   53.73686652,  -85.01656526,  110.63956813,\n",
        "       -114.75634136,   98.41800747,  -67.11007339,   37.701665  ,\n",
        "        -14.81611959,    6.01234126,   -1.11147946,    1.00003317]), 'order': 15}\n",
        "{'coeffs': array([   0.26736761,    0.90380826,   -2.53348841,   10.52725645,\n",
        "        -26.01075284,   53.73686652,  -85.01656526,  110.63956813,\n",
        "       -114.75634136,   98.41800747,  -67.11007339,   37.701665  ,\n",
        "        -14.81611959,    6.01234126,   -1.11147946,    1.00003317]), 'order': 15}\n"
       ]
      },
      {
       "metadata": {},
       "output_type": "display_data",
       "png": "[encoded data removed]",
       "text": [
        "<matplotlib.figure.Figure at 0x7f3b29323d68>"
       ]
      }
     ],
     "prompt_number": 32
    },
    {
     "cell_type": "code",
     "collapsed": false,
     "input": [],
     "language": "python",
     "metadata": {},
     "outputs": [],
     "prompt_number": 15
    }
   ],
   "metadata": {}
  }
 ]
}