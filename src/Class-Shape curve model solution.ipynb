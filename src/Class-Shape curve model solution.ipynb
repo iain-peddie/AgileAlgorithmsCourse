{
 "metadata": {
  "name": "",
  "signature": "sha256:d879d2dccce7d836f051b8c7b706844d7a823325c457af28a6813d68cf9b83cc"
 },
 "nbformat": 3,
 "nbformat_minor": 0,
 "worksheets": [
  {
   "cells": [
    {
     "cell_type": "code",
     "collapsed": false,
     "input": [
      "import sys\n",
      "sys.path.append('.')\n",
      "import CourseExamples\n",
      "import SplineAlgorithms\n",
      "import numpy as np\n",
      "from matplotlib.pyplot import *\n",
      "# set reloading so that when NacaCurves module changes under development\n",
      "# changes are automatically noticed. (Why can't this be the default?)\n",
      "%load_ext autoreload\n",
      "%autoreload 2\n",
      "%matplotlib inline"
     ],
     "language": "python",
     "metadata": {},
     "outputs": [],
     "prompt_number": 2
    },
    {
     "cell_type": "code",
     "collapsed": false,
     "input": [
      "data = CourseExamples.generateExampleData(3)\n",
      "upperPoints = data['upper']\n",
      "lowerPoints = data['lower']\n",
      "print(upperPoints)"
     ],
     "language": "python",
     "metadata": {},
     "outputs": [
      {
       "output_type": "stream",
       "stream": "stdout",
       "text": [
        "[[  0.00000000e+00   0.00000000e+00]\n",
        " [ -1.97863115e-05   5.51529818e-05]\n",
        " [ -7.83706382e-05   2.20751116e-04]\n",
        " [ -1.73432132e-04   4.97211335e-04]\n",
        " [ -3.01112624e-04   8.85226351e-04]\n",
        " [ -4.56031463e-04   1.38576124e-03]\n",
        " [ -6.31306241e-04   2.00004832e-03]\n",
        " [ -8.18579348e-04   2.72958002e-03]\n",
        " [ -1.00805029e-03   3.57609938e-03]\n",
        " [ -1.18851367e-03   4.54158761e-03]\n",
        " [ -1.34740282e-03   5.62824846e-03]\n",
        " [ -1.47083877e-03   6.83848853e-03]\n",
        " [ -1.54368470e-03   8.17489332e-03]\n",
        " [ -1.54960555e-03   9.64019824e-03]\n",
        " [ -1.47113263e-03   1.12372542e-02]\n",
        " [ -1.28973325e-03   1.29689872e-02]\n",
        " [ -9.85885060e-04   1.48383518e-02]\n",
        " [ -5.39154975e-04   1.68482778e-02]\n",
        " [  7.17173553e-05   1.90016103e-02]\n",
        " [  8.68731787e-04   2.13010429e-02]\n",
        " [  1.87453567e-03   2.37490439e-02]\n",
        " [  3.11232770e-03   2.63477769e-02]\n",
        " [  4.60575769e-03   2.90990143e-02]\n",
        " [  6.37882230e-03   3.20040463e-02]\n",
        " [  8.45575679e-03   3.50635851e-02]\n",
        " [  1.08609227e-02   3.82776658e-02]\n",
        " [  1.36186916e-02   4.16455448e-02]\n",
        " [  1.67533243e-02   4.51655977e-02]\n",
        " [  2.02888471e-02   4.88352178e-02]\n",
        " [  2.42489221e-02   5.26507171e-02]\n",
        " [  2.86567152e-02   5.66072319e-02]\n",
        " [  3.35347592e-02   6.06986341e-02]\n",
        " [  3.89048125e-02   6.49174519e-02]\n",
        " [  4.47877153e-02   6.92547999e-02]\n",
        " [  5.12032417e-02   7.37003222e-02]\n",
        " [  5.81699491e-02   7.82421496e-02]\n",
        " [  6.57050255e-02   8.28668736e-02]\n",
        " [  7.38241358e-02   8.75595377e-02]\n",
        " [  8.25412674e-02   9.23036492e-02]\n",
        " [  9.18685772e-02   9.70812108e-02]\n",
        " [  1.01816241e-01   1.01872775e-01]\n",
        " [  1.12392306e-01   1.06657521e-01]\n",
        " [  1.23602554e-01   1.11413352e-01]\n",
        " [  1.35450362e-01   1.16117022e-01]\n",
        " [  1.47936589e-01   1.20744275e-01]\n",
        " [  1.61059458e-01   1.25270014e-01]\n",
        " [  1.74814466e-01   1.29668488e-01]\n",
        " [  1.89194305e-01   1.33913494e-01]\n",
        " [  2.04188803e-01   1.37978597e-01]\n",
        " [  2.19784882e-01   1.41837366e-01]\n",
        " [  2.35966548e-01   1.45463620e-01]\n",
        " [  2.52714899e-01   1.48831673e-01]\n",
        " [  2.70008154e-01   1.51916599e-01]\n",
        " [  2.87821716e-01   1.54694481e-01]\n",
        " [  3.06128256e-01   1.57142666e-01]\n",
        " [  3.24897821e-01   1.59240011e-01]\n",
        " [  3.44097967e-01   1.60967120e-01]\n",
        " [  3.63693919e-01   1.62306561e-01]\n",
        " [  3.83648741e-01   1.63243071e-01]\n",
        " [  4.03923530e-01   1.63763742e-01]\n",
        " [  4.24477629e-01   1.63858179e-01]\n",
        " [  4.45268837e-01   1.63518643e-01]\n",
        " [  4.66253645e-01   1.62740158e-01]\n",
        " [  4.87387458e-01   1.61520600e-01]\n",
        " [  5.08624834e-01   1.59860756e-01]\n",
        " [  5.29919710e-01   1.57764362e-01]\n",
        " [  5.51225625e-01   1.55238108e-01]\n",
        " [  5.72495939e-01   1.52291624e-01]\n",
        " [  5.93684037e-01   1.48937445e-01]\n",
        " [  6.14743522e-01   1.45190949e-01]\n",
        " [  6.35628402e-01   1.41070283e-01]\n",
        " [  6.56293252e-01   1.36596264e-01]\n",
        " [  6.76693373e-01   1.31792268e-01]\n",
        " [  6.96784932e-01   1.26684102e-01]\n",
        " [  7.16525091e-01   1.21299862e-01]\n",
        " [  7.35872123e-01   1.15669782e-01]\n",
        " [  7.54785518e-01   1.09826059e-01]\n",
        " [  7.73226076e-01   1.03802678e-01]\n",
        " [  7.91155994e-01   9.76352162e-02]\n",
        " [  8.08538940e-01   9.13606387e-02]\n",
        " [  8.25340120e-01   8.50170774e-02]\n",
        " [  8.41526338e-01   7.86436010e-02]\n",
        " [  8.57066042e-01   7.22799701e-02]\n",
        " [  8.71929369e-01   6.59663809e-02]\n",
        " [  8.86088174e-01   5.97431969e-02]\n",
        " [  8.99516057e-01   5.36506703e-02]\n",
        " [  9.12188378e-01   4.77286543e-02]\n",
        " [  9.24082260e-01   4.20163084e-02]\n",
        " [  9.35176591e-01   3.65517988e-02]\n",
        " [  9.45452008e-01   3.13719976e-02]\n",
        " [  9.54890883e-01   2.65121820e-02]\n",
        " [  9.63477298e-01   2.20057393e-02]\n",
        " [  9.71197009e-01   1.78838794e-02]\n",
        " [  9.78037419e-01   1.41753605e-02]\n",
        " [  9.83987532e-01   1.09062295e-02]\n",
        " [  9.89037920e-01   8.09958330e-03]\n",
        " [  9.93180681e-01   5.77535291e-03]\n",
        " [  9.96409409e-01   3.95011480e-03]\n",
        " [  9.98719153e-01   2.63693185e-03]\n",
        " [  1.00010640e+00   1.84522690e-03]\n",
        " [  1.00056905e+00   1.58069085e-03]]\n"
       ]
      }
     ],
     "prompt_number": 5
    },
    {
     "cell_type": "code",
     "collapsed": false,
     "input": [
      "def buildCstBasisFunctions(x, order):\n",
      "    # spline order is polynomial order + 1\n",
      "    zBasis = x.reshape([len(x), 1])\n",
      "    print(\"bernstein functions call\")\n",
      "    shapeFunctions = SplineAlgorithms.bernsteinFunctions(x, order+1)\n",
      "    print (\"found shape functions\")\n",
      "#    shapeFunctions = np.hstack([shapeFunctions, zBasis])\n",
      "    classFunctions = (x)**0.5 * (1-x)**1\n",
      "    \n",
      "    classFunctions = np.transpose(np.tile(classFunctions, [shapeFunctions.shape[1], 1]))\n",
      "    \n",
      "    return  shapeFunctions * classFunctions\n"
     ],
     "language": "python",
     "metadata": {},
     "outputs": [],
     "prompt_number": 3
    },
    {
     "cell_type": "code",
     "collapsed": false,
     "input": [
      "def fitCstSurface(data, order):\n",
      "    print(\"fit CST surface called\")\n",
      "    x = data[:, 0]\n",
      "    basis = buildCstBasisFunctions(x, order)\n",
      "    print(\"found basis\")\n",
      "    fitData = np.linalg.lstsq(basis, data[:, 1])\n",
      "    print(\"performed ls fit\")\n",
      "    return createCstCurve(fitData[0], order)\n",
      "\n",
      "def createCstCurve(coeffs, order):\n",
      "    return {'coeffs': coeffs, \n",
      "            'order': order}\n",
      "\n"
     ],
     "language": "python",
     "metadata": {},
     "outputs": [],
     "prompt_number": 4
    },
    {
     "cell_type": "code",
     "collapsed": false,
     "input": [
      "upperCst = fitCstSurface(upperPoints, 3)\n",
      "#lowerCst = fitCstSurface(lowerPoints, 3)"
     ],
     "language": "python",
     "metadata": {},
     "outputs": []
    },
    {
     "cell_type": "code",
     "collapsed": false,
     "input": [
      "def evaluateCstCurve(cstCurve, x):\n",
      "    basisFunctions = buildCstBasisFunctions(x, cstCurve['order'])\n",
      "    weightedBasisFunctions = 0 *basisFunctions\n",
      "    \n",
      "    coeffs = cstCurve['coeffs']\n",
      "    \n",
      "    \n",
      "    for iCoeff in range(0,len(coeffs)):\n",
      "        weightedBasisFunctions[:, iCoeff] = coeffs[iCoeff] * basisFunctions[:, iCoeff]\n",
      "        \n",
      "    predY = np.transpose(np.sum(weightedBasisFunctions, 1))\n",
      "    return np.transpose(np.vstack([x, predY]))\n",
      "    \n",
      "    "
     ],
     "language": "python",
     "metadata": {},
     "outputs": []
    },
    {
     "cell_type": "code",
     "collapsed": false,
     "input": [
      "xPred = np.linspace(0,1,101)\n",
      "predUpper = evaluateCstCurve(upperCst, xPred)\n",
      "predLower = evaluateCstCurve(lowerCst, xPred)"
     ],
     "language": "python",
     "metadata": {},
     "outputs": []
    },
    {
     "cell_type": "code",
     "collapsed": false,
     "input": [
      "def plotSnapshot(dataPoints, predPoints):    \n",
      "    plot(dataPoints[:, 0], dataPoints[:, 1], 'g-')\n",
      "    plot(predPoints[:, 0], predPoints[:, 1], 'r-')   "
     ],
     "language": "python",
     "metadata": {},
     "outputs": []
    },
    {
     "cell_type": "code",
     "collapsed": false,
     "input": [
      "plotSnapshot(upperPoints, predUpper)\n",
      "plotSnapshot(lowerPoints, predLower)"
     ],
     "language": "python",
     "metadata": {},
     "outputs": []
    },
    {
     "cell_type": "code",
     "collapsed": false,
     "input": [
      "def findFirstFitBeneathTolerance(data, fitTolerance):\n",
      "    cstCurve = None\n",
      "    for order in range(1, 10):\n",
      "        print('trying fit at ', order)\n",
      "        cstCurve = fitCstSurface(data, order)\n",
      "        residuals = calculateFitResiduals(data, cstCurve)\n",
      "        metric = max(residuals[:, 1])\n",
      "        if metric <= fitTolerance:       \n",
      "            print('fit found at {}'.format(order))\n",
      "            break\n",
      "        print('max residual is ', metric)\n",
      "    return cstCurve\n",
      "\n",
      "def calculateFitResiduals(actuals, cstCurve):\n",
      "    x = actuals[:, 0]\n",
      "    actualZ = actuals[:, 1]\n",
      "    pred = evaluateCstCurve(cstCurve, x)\n",
      "    predZ = pred[:, 1]\n",
      "    return np.transpose(np.vstack([x, abs(actualZ - predZ)]))"
     ],
     "language": "python",
     "metadata": {},
     "outputs": []
    },
    {
     "cell_type": "code",
     "collapsed": false,
     "input": [
      "target = 1e-3\n",
      "upperFit = findFirstFitBeneathTolerance(upperPoints, target)\n",
      "lowerFit = findFirstFitBeneathTolerance(lowerPoints, target)"
     ],
     "language": "python",
     "metadata": {},
     "outputs": []
    },
    {
     "cell_type": "code",
     "collapsed": false,
     "input": [
      "def plotResiduals(actuals, cstCurve, target):\n",
      "    residuals = calculateFitResiduals(actuals, cstCurve)\n",
      "    targetData = target * np.ones(actuals.shape[0])\n",
      "    plot(residuals[:, 0], residuals[:, 1])\n",
      "    \n",
      "    plot(residuals[:, 0], targetData)"
     ],
     "language": "python",
     "metadata": {},
     "outputs": []
    },
    {
     "cell_type": "code",
     "collapsed": false,
     "input": [
      "plotResiduals(upperPoints, upperFit, target)\n",
      "plotResiduals(lowerPoints, lowerFit, target)"
     ],
     "language": "python",
     "metadata": {},
     "outputs": []
    },
    {
     "cell_type": "code",
     "collapsed": false,
     "input": [],
     "language": "python",
     "metadata": {},
     "outputs": []
    },
    {
     "cell_type": "code",
     "collapsed": false,
     "input": [],
     "language": "python",
     "metadata": {},
     "outputs": []
    }
   ],
   "metadata": {}
  }
 ]
}